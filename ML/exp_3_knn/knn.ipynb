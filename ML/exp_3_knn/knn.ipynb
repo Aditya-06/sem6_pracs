{
 "cells": [
  {
   "cell_type": "code",
   "execution_count": 10,
   "metadata": {},
   "outputs": [],
   "source": [
    "import numpy as np\n",
    "import matplotlib.pyplot as plt\n",
    "import pandas as pd\n",
    "import operator"
   ]
  },
  {
   "cell_type": "code",
   "execution_count": 16,
   "metadata": {},
   "outputs": [],
   "source": [
    "data = pd.read_csv('iris.data', header=None, names=['sepal_length', 'sepal_width', 'petal_length', 'petal_width', 'class'])"
   ]
  },
  {
   "cell_type": "code",
   "execution_count": 17,
   "metadata": {},
   "outputs": [
    {
     "data": {
      "text/html": [
       "<div>\n",
       "<style scoped>\n",
       "    .dataframe tbody tr th:only-of-type {\n",
       "        vertical-align: middle;\n",
       "    }\n",
       "\n",
       "    .dataframe tbody tr th {\n",
       "        vertical-align: top;\n",
       "    }\n",
       "\n",
       "    .dataframe thead th {\n",
       "        text-align: right;\n",
       "    }\n",
       "</style>\n",
       "<table border=\"1\" class=\"dataframe\">\n",
       "  <thead>\n",
       "    <tr style=\"text-align: right;\">\n",
       "      <th></th>\n",
       "      <th>sepal_length</th>\n",
       "      <th>sepal_width</th>\n",
       "      <th>petal_length</th>\n",
       "      <th>petal_width</th>\n",
       "      <th>class</th>\n",
       "    </tr>\n",
       "  </thead>\n",
       "  <tbody>\n",
       "    <tr>\n",
       "      <th>0</th>\n",
       "      <td>5.1</td>\n",
       "      <td>3.5</td>\n",
       "      <td>1.4</td>\n",
       "      <td>0.2</td>\n",
       "      <td>Iris-setosa</td>\n",
       "    </tr>\n",
       "    <tr>\n",
       "      <th>1</th>\n",
       "      <td>4.9</td>\n",
       "      <td>3.0</td>\n",
       "      <td>1.4</td>\n",
       "      <td>0.2</td>\n",
       "      <td>Iris-setosa</td>\n",
       "    </tr>\n",
       "    <tr>\n",
       "      <th>2</th>\n",
       "      <td>4.7</td>\n",
       "      <td>3.2</td>\n",
       "      <td>1.3</td>\n",
       "      <td>0.2</td>\n",
       "      <td>Iris-setosa</td>\n",
       "    </tr>\n",
       "    <tr>\n",
       "      <th>3</th>\n",
       "      <td>4.6</td>\n",
       "      <td>3.1</td>\n",
       "      <td>1.5</td>\n",
       "      <td>0.2</td>\n",
       "      <td>Iris-setosa</td>\n",
       "    </tr>\n",
       "    <tr>\n",
       "      <th>4</th>\n",
       "      <td>5.0</td>\n",
       "      <td>3.6</td>\n",
       "      <td>1.4</td>\n",
       "      <td>0.2</td>\n",
       "      <td>Iris-setosa</td>\n",
       "    </tr>\n",
       "  </tbody>\n",
       "</table>\n",
       "</div>"
      ],
      "text/plain": [
       "   sepal_length  sepal_width  petal_length  petal_width        class\n",
       "0           5.1          3.5           1.4          0.2  Iris-setosa\n",
       "1           4.9          3.0           1.4          0.2  Iris-setosa\n",
       "2           4.7          3.2           1.3          0.2  Iris-setosa\n",
       "3           4.6          3.1           1.5          0.2  Iris-setosa\n",
       "4           5.0          3.6           1.4          0.2  Iris-setosa"
      ]
     },
     "execution_count": 17,
     "metadata": {},
     "output_type": "execute_result"
    }
   ],
   "source": [
    "data.head()"
   ]
  },
  {
   "cell_type": "code",
   "execution_count": 47,
   "metadata": {},
   "outputs": [
    {
     "data": {
      "text/plain": [
       "<seaborn.axisgrid.FacetGrid at 0x7d00910>"
      ]
     },
     "execution_count": 47,
     "metadata": {},
     "output_type": "execute_result"
    },
    {
     "data": {
      "image/png": "[encoded data removed]",
      "text/plain": [
       "<Figure size 511.125x432 with 1 Axes>"
      ]
     },
     "metadata": {},
     "output_type": "display_data"
    }
   ],
   "source": [
    "import seaborn as sns\n",
    " \n",
    "iris = sns.load_dataset('iris')\n",
    "sns.set_style(\"whitegrid\")\n",
    "sns.FacetGrid(iris, hue =\"species\", height = 6).map(plt.scatter, 'sepal_length','petal_length').add_legend()"
   ]
  },
  {
   "cell_type": "code",
   "execution_count": 19,
   "metadata": {},
   "outputs": [
    {
     "name": "stdout",
     "output_type": "stream",
     "text": [
      "Development Set:\n",
      "     sepal_length  sepal_width  petal_length  petal_width            class\n",
      "71           6.1          2.8           4.0          1.3  Iris-versicolor\n",
      "10           5.4          3.7           1.5          0.2      Iris-setosa\n",
      "31           5.4          3.4           1.5          0.4      Iris-setosa\n",
      "41           4.5          2.3           1.3          0.3      Iris-setosa\n",
      "20           5.4          3.4           1.7          0.2      Iris-setosa \n",
      "\n",
      "Test Set:\n",
      "      sepal_length  sepal_width  petal_length  petal_width            class\n",
      "131           7.9          3.8           6.4          2.0   Iris-virginica\n",
      "112           6.8          3.0           5.5          2.1   Iris-virginica\n",
      "124           6.7          3.3           5.7          2.1   Iris-virginica\n",
      "61            5.9          3.0           4.2          1.5  Iris-versicolor\n",
      "60            5.0          2.0           3.5          1.0  Iris-versicolor\n"
     ]
    }
   ],
   "source": [
    "indices = np.random.permutation(data.shape[0])\n",
    "div = int(0.75 * len(indices))\n",
    "development_id, test_id = indices[:div], indices[div:]\n",
    "\n",
    "development_set, test_set = data.loc[development_id,:], data.loc[test_id,:]\n",
    "print(\"Development Set:\\n\", development_set.head(), \"\\n\\nTest Set:\\n\", test_set.head())"
   ]
  },
  {
   "cell_type": "code",
   "execution_count": 20,
   "metadata": {},
   "outputs": [],
   "source": [
    "mean_development_set = development_set.mean()\n",
    "mean_test_set = test_set.mean()\n",
    "std_development_set = development_set.std()\n",
    "std_test_set = test_set.std()"
   ]
  },
  {
   "cell_type": "code",
   "execution_count": 22,
   "metadata": {},
   "outputs": [],
   "source": [
    "test_class = list(test_set.iloc[:,-1])\n",
    "dev_class = list(development_set.iloc[:,-1])"
   ]
  },
  {
   "cell_type": "code",
   "execution_count": 36,
   "metadata": {},
   "outputs": [],
   "source": [
    "col = ['sepal_length', 'sepal_width', 'petal_length', 'petal_width']"
   ]
  },
  {
   "cell_type": "code",
   "execution_count": 45,
   "metadata": {},
   "outputs": [],
   "source": [
    "def euclideanDistance(data1, data2, cols = col):\n",
    "    \n",
    "    # Get two data points\n",
    "    point_1 = list(data1[col])\n",
    "    point_2 = list(data2[col])\n",
    "    \n",
    "    # variable to store sum of squares\n",
    "    sum_of_squares = 0\n",
    "    \n",
    "    # Loop for sum of squares\n",
    "    for i in range(len(point_2)):\n",
    "        sum_of_squares += (point_1[i] - point_2[i])**2\n",
    "        \n",
    "    return round(sum_of_squares ** 0.5, 3)"
   ]
  },
  {
   "cell_type": "code",
   "execution_count": 46,
   "metadata": {},
   "outputs": [
    {
     "data": {
      "text/plain": [
       "0.539"
      ]
     },
     "execution_count": 46,
     "metadata": {},
     "output_type": "execute_result"
    }
   ],
   "source": [
    "euclideanDistance(data.loc[0], data.loc[1])"
   ]
  },
  {
   "cell_type": "code",
   "execution_count": 50,
   "metadata": {},
   "outputs": [
    {
     "data": {
      "text/plain": [
       "150"
      ]
     },
     "execution_count": 50,
     "metadata": {},
     "output_type": "execute_result"
    }
   ],
   "source": [
    "data.shape[0]"
   ]
  },
  {
   "cell_type": "code",
   "execution_count": 108,
   "metadata": {},
   "outputs": [],
   "source": [
    "def get_k_neighbours(data_1, data, k=50):\n",
    "    \n",
    "    # variable to maintain the k-neighbours\n",
    "    k_neighbours = []\n",
    "    # list of euclidean distances\n",
    "    all_dists = []\n",
    "    \n",
    "    # loop to calculate distances from all points\n",
    "    for i in range(data.shape[0]):\n",
    "        data_2 = data.loc[i]\n",
    "        all_dists.append({'dist': euclideanDistance(data_1, data_2), 'index': i, 'class': data_2['class']})\n",
    "    \n",
    "    # the sorted list in order of euclidean distances\n",
    "    newlist = sorted(all_dists, key=operator.itemgetter('dist')) \n",
    "    # We select the k closest\\\n",
    "    k_neighbours = newlist[:k]\n",
    "    return k_neighbours\n",
    "    "
   ]
  },
  {
   "cell_type": "code",
   "execution_count": 109,
   "metadata": {},
   "outputs": [],
   "source": [
    "def select_class(k_neighbours: list, classes = ['Iris-versicolor', 'Iris-setosa', 'Iris-virginica']):\n",
    "    count_dict = {'Iris-virginica': 0, 'Iris-versicolor': 0, 'Iris-setosa': 0}\n",
    "    for i in k_neighbours:\n",
    "        count_dict[i['class']] += 1\n",
    "    result_class = ''\n",
    "    max_class = 0\n",
    "    for iris_class in classes:\n",
    "        if int(max_class) < int(count_dict[iris_class]):\n",
    "            max_class = count_dict[iris_class]\n",
    "            result_class = iris_class\n",
    "    print(result_class)"
   ]
  },
  {
   "cell_type": "code",
   "execution_count": 110,
   "metadata": {},
   "outputs": [
    {
     "name": "stdout",
     "output_type": "stream",
     "text": [
      "Iris-setosa\n"
     ]
    }
   ],
   "source": [
    "select_class(k_n)"
   ]
  },
  {
   "cell_type": "code",
   "execution_count": 111,
   "metadata": {},
   "outputs": [],
   "source": [
    "def KNN(data):\n",
    "    num_correct = 0\n",
    "    for i in range(data.shape[0]):\n",
    "        trunc_df = data.drop(i)\n",
    "        print(data.loc[i])\n",
    "        k_n = get_k_neighbours(data.loc[i], trunc_df)\n",
    "        if select_class == data.loc[i]['class']:\n",
    "            num_correct += 1\n",
    "    print(f\"Number of correct guess: {num_correct}\")"
   ]
  },
  {
   "cell_type": "code",
   "execution_count": 113,
   "metadata": {},
   "outputs": [],
   "source": [
    "K_N = get_k_neighbours(data.loc[1], data)"
   ]
  },
  {
   "cell_type": "code",
   "execution_count": 114,
   "metadata": {},
   "outputs": [
    {
     "name": "stdout",
     "output_type": "stream",
     "text": [
      "Iris-setosa\n"
     ]
    }
   ],
   "source": [
    "select_class(K_N)"
   ]
  },
  {
   "cell_type": "code",
   "execution_count": null,
   "metadata": {},
   "outputs": [],
   "source": []
  }
 ],
 "metadata": {
  "kernelspec": {
   "display_name": "Python 3",
   "language": "python",
   "name": "python3"
  },
  "language_info": {
   "codemirror_mode": {
    "name": "ipython",
    "version": 3
   },
   "file_extension": ".py",
   "mimetype": "text/x-python",
   "name": "python",
   "nbconvert_exporter": "python",
   "pygments_lexer": "ipython3",
   "version": "3.7.3"
  }
 },
 "nbformat": 4,
 "nbformat_minor": 2
}
