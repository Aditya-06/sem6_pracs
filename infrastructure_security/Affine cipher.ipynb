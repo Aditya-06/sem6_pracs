{
 "cells": [
  {
   "cell_type": "code",
   "execution_count": 6,
   "id": "79da573f",
   "metadata": {},
   "outputs": [],
   "source": [
    "from egcd import egcd"
   ]
  },
  {
   "cell_type": "code",
   "execution_count": 12,
   "id": "c40d0d88",
   "metadata": {
    "scrolled": true
   },
   "outputs": [
    {
     "name": "stdout",
     "output_type": "stream",
     "text": [
      "\n",
      "Affine Cipher\n",
      "\n",
      "1.Encryption\n",
      "2.Decryption\n",
      "3.Exit\n",
      "Enter your choice:1\n",
      "\n",
      "Enter plain text message (all caps):ISHAJOSHI\n",
      "Enter first key:7\n",
      "Enter second key:20\n",
      "YQRUFOQRY\n",
      "\n",
      "Affine Cipher\n",
      "\n",
      "1.Encryption\n",
      "2.Decryption\n",
      "3.Exit\n",
      "Enter your choice:2\n",
      "\n",
      "Enter cipher text message (all caps):YQRUFOQRY\n",
      "Enter first key:7\n",
      "Enter second key:20\n",
      "ISHAJOSHI\n",
      "\n",
      "Affine Cipher\n",
      "\n",
      "1.Encryption\n",
      "2.Decryption\n",
      "3.Exit\n"
     ]
    },
    {
     "ename": "KeyboardInterrupt",
     "evalue": "Interrupted by user",
     "output_type": "error",
     "traceback": [
      "\u001b[1;31m---------------------------------------------------------------------------\u001b[0m",
      "\u001b[1;31mKeyboardInterrupt\u001b[0m                         Traceback (most recent call last)",
      "\u001b[1;32m<ipython-input-12-72e0f11dbccf>\u001b[0m in \u001b[0;36m<module>\u001b[1;34m\u001b[0m\n\u001b[0;32m     46\u001b[0m     \u001b[0mprint\u001b[0m\u001b[1;33m(\u001b[0m\u001b[1;34m\"\\nAffine Cipher\"\u001b[0m\u001b[1;33m)\u001b[0m\u001b[1;33m\u001b[0m\u001b[1;33m\u001b[0m\u001b[0m\n\u001b[0;32m     47\u001b[0m     \u001b[0mprint\u001b[0m\u001b[1;33m(\u001b[0m\u001b[1;34m'\\n1.Encryption\\n2.Decryption\\n3.Exit'\u001b[0m\u001b[1;33m)\u001b[0m\u001b[1;33m\u001b[0m\u001b[1;33m\u001b[0m\u001b[0m\n\u001b[1;32m---> 48\u001b[1;33m     \u001b[0mchoice\u001b[0m\u001b[1;33m=\u001b[0m\u001b[0mint\u001b[0m\u001b[1;33m(\u001b[0m\u001b[0minput\u001b[0m\u001b[1;33m(\u001b[0m\u001b[1;34m'Enter your choice:'\u001b[0m\u001b[1;33m)\u001b[0m\u001b[1;33m)\u001b[0m\u001b[1;33m\u001b[0m\u001b[1;33m\u001b[0m\u001b[0m\n\u001b[0m\u001b[0;32m     49\u001b[0m     \u001b[1;32mif\u001b[0m\u001b[1;33m(\u001b[0m\u001b[0mchoice\u001b[0m\u001b[1;33m==\u001b[0m\u001b[1;36m1\u001b[0m\u001b[1;33m)\u001b[0m\u001b[1;33m:\u001b[0m\u001b[1;33m\u001b[0m\u001b[1;33m\u001b[0m\u001b[0m\n\u001b[0;32m     50\u001b[0m         \u001b[0mpt\u001b[0m\u001b[1;33m=\u001b[0m\u001b[0minput\u001b[0m\u001b[1;33m(\u001b[0m\u001b[1;34m\"\\nEnter plain text message (all caps):\"\u001b[0m\u001b[1;33m)\u001b[0m\u001b[1;33m\u001b[0m\u001b[1;33m\u001b[0m\u001b[0m\n",
      "\u001b[1;32m~\\anaconda3\\lib\\site-packages\\ipykernel\\kernelbase.py\u001b[0m in \u001b[0;36mraw_input\u001b[1;34m(self, prompt)\u001b[0m\n\u001b[0;32m    858\u001b[0m                 \u001b[1;34m\"raw_input was called, but this frontend does not support input requests.\"\u001b[0m\u001b[1;33m\u001b[0m\u001b[1;33m\u001b[0m\u001b[0m\n\u001b[0;32m    859\u001b[0m             )\n\u001b[1;32m--> 860\u001b[1;33m         return self._input_request(str(prompt),\n\u001b[0m\u001b[0;32m    861\u001b[0m             \u001b[0mself\u001b[0m\u001b[1;33m.\u001b[0m\u001b[0m_parent_ident\u001b[0m\u001b[1;33m,\u001b[0m\u001b[1;33m\u001b[0m\u001b[1;33m\u001b[0m\u001b[0m\n\u001b[0;32m    862\u001b[0m             \u001b[0mself\u001b[0m\u001b[1;33m.\u001b[0m\u001b[0m_parent_header\u001b[0m\u001b[1;33m,\u001b[0m\u001b[1;33m\u001b[0m\u001b[1;33m\u001b[0m\u001b[0m\n",
      "\u001b[1;32m~\\anaconda3\\lib\\site-packages\\ipykernel\\kernelbase.py\u001b[0m in \u001b[0;36m_input_request\u001b[1;34m(self, prompt, ident, parent, password)\u001b[0m\n\u001b[0;32m    902\u001b[0m             \u001b[1;32mexcept\u001b[0m \u001b[0mKeyboardInterrupt\u001b[0m\u001b[1;33m:\u001b[0m\u001b[1;33m\u001b[0m\u001b[1;33m\u001b[0m\u001b[0m\n\u001b[0;32m    903\u001b[0m                 \u001b[1;31m# re-raise KeyboardInterrupt, to truncate traceback\u001b[0m\u001b[1;33m\u001b[0m\u001b[1;33m\u001b[0m\u001b[1;33m\u001b[0m\u001b[0m\n\u001b[1;32m--> 904\u001b[1;33m                 \u001b[1;32mraise\u001b[0m \u001b[0mKeyboardInterrupt\u001b[0m\u001b[1;33m(\u001b[0m\u001b[1;34m\"Interrupted by user\"\u001b[0m\u001b[1;33m)\u001b[0m \u001b[1;32mfrom\u001b[0m \u001b[1;32mNone\u001b[0m\u001b[1;33m\u001b[0m\u001b[1;33m\u001b[0m\u001b[0m\n\u001b[0m\u001b[0;32m    905\u001b[0m             \u001b[1;32mexcept\u001b[0m \u001b[0mException\u001b[0m \u001b[1;32mas\u001b[0m \u001b[0me\u001b[0m\u001b[1;33m:\u001b[0m\u001b[1;33m\u001b[0m\u001b[1;33m\u001b[0m\u001b[0m\n\u001b[0;32m    906\u001b[0m                 \u001b[0mself\u001b[0m\u001b[1;33m.\u001b[0m\u001b[0mlog\u001b[0m\u001b[1;33m.\u001b[0m\u001b[0mwarning\u001b[0m\u001b[1;33m(\u001b[0m\u001b[1;34m\"Invalid Message:\"\u001b[0m\u001b[1;33m,\u001b[0m \u001b[0mexc_info\u001b[0m\u001b[1;33m=\u001b[0m\u001b[1;32mTrue\u001b[0m\u001b[1;33m)\u001b[0m\u001b[1;33m\u001b[0m\u001b[1;33m\u001b[0m\u001b[0m\n",
      "\u001b[1;31mKeyboardInterrupt\u001b[0m: Interrupted by user"
     ]
    }
   ],
   "source": [
    "def encrypt(mes,k):\n",
    "    \n",
    "    alphabet='ABCDEFGHIJKLMNOPQRSTUVWXYZ'\n",
    "    \n",
    "    ct=[]\n",
    "    \n",
    "    conv_mes=[]   #first convert the characters to corresponding numbers and append to a list\n",
    "    for char in mes:\n",
    "        char_index=alphabet.find(char)\n",
    "        conv_mes.append(char_index)\n",
    "    \n",
    "    for i in range(len(conv_mes)):\n",
    "        ct.append(((conv_mes[i]*k[0])+k[1])%26)   #perform operations on the numerical values\n",
    "        \n",
    "    encrypted_mes=''\n",
    "    \n",
    "    for i in range(len(ct)):    #convert numerical values back to alphabet\n",
    "        encrypted_mes+=alphabet[ct[i]]\n",
    "    \n",
    "    print(encrypted_mes)\n",
    "    \n",
    "def decrypt(mes,k):\n",
    "    \n",
    "    alphabet='ABCDEFGHIJKLMNOPQRSTUVWXYZ'\n",
    "    \n",
    "    pt=[]\n",
    "    \n",
    "    conv_mes=[]    #convert alphabets to numerical values\n",
    "    for char in mes:\n",
    "        char_index=alphabet.find(char)\n",
    "        conv_mes.append(char_index)\n",
    "        \n",
    "    k_inv=egcd(k[0],26)[1] % 26    #IMPORTANT \n",
    "        \n",
    "    for i in range(len(conv_mes)):\n",
    "        pt.append(((conv_mes[i]-k[1])*k_inv)%26)   #perform operations on those numerical values\n",
    "        \n",
    "    original_mes=''\n",
    "    \n",
    "    for i in range(len(pt)):\n",
    "        original_mes+=alphabet[pt[i]]  #convert numbers to text \n",
    "        \n",
    "    print(original_mes)\n",
    "        \n",
    "while(True):\n",
    "    print(\"\\nAffine Cipher\")\n",
    "    print('\\n1.Encryption\\n2.Decryption\\n3.Exit')\n",
    "    choice=int(input('Enter your choice:'))\n",
    "    if(choice==1):\n",
    "        pt=input(\"\\nEnter plain text message (all caps):\")\n",
    "        k1=int(input(\"Enter first key:\"))\n",
    "        k2=int(input('Enter second key:'))\n",
    "        key=[k1,k2]\n",
    "        encrypt(pt,key)\n",
    "    if(choice==2):\n",
    "        ct=input(\"\\nEnter cipher text message (all caps):\")\n",
    "        k1=int(input(\"Enter first key:\"))\n",
    "        k2=int(input('Enter second key:'))\n",
    "        key=[k1,k2]\n",
    "        decrypt(ct,key)\n",
    "    if(choice==3):\n",
    "        break"
   ]
  },
  {
   "cell_type": "code",
   "execution_count": null,
   "id": "c1c008cb",
   "metadata": {},
   "outputs": [],
   "source": []
  }
 ],
 "metadata": {
  "kernelspec": {
   "display_name": "Python 3",
   "language": "python",
   "name": "python3"
  },
  "language_info": {
   "codemirror_mode": {
    "name": "ipython",
    "version": 3
   },
   "file_extension": ".py",
   "mimetype": "text/x-python",
   "name": "python",
   "nbconvert_exporter": "python",
   "pygments_lexer": "ipython3",
   "version": "3.8.8"
  }
 },
 "nbformat": 4,
 "nbformat_minor": 5
}
