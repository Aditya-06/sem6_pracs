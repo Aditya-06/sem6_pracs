{
 "cells": [
  {
   "cell_type": "code",
   "execution_count": 1,
   "id": "9ffeff1b",
   "metadata": {},
   "outputs": [
    {
     "name": "stdout",
     "output_type": "stream",
     "text": [
      "\n",
      "Extended Euclidean Algorithm\n",
      "Form : (s*a) + (t*b) = gcd(a,b)\n",
      "The values of gcd(a,b) , s and t are 1,-1,1 respectively\n",
      "The modular inverse of b in a is 1\n"
     ]
    }
   ],
   "source": [
    "def eea(r1,r2):\n",
    "  \n",
    "    m=r1\n",
    "    s1=1\n",
    "    s2=0\n",
    "    t1=0\n",
    "    t2=1\n",
    "    \n",
    "    while(r2!=0):\n",
    "        q=r1//r2\n",
    "        r=r1-q*r2\n",
    "        r1=r2\n",
    "        r2=r\n",
    "        \n",
    "        s=s1-q*s2\n",
    "        s1=s2 \n",
    "        s2=s\n",
    "        \n",
    "        t=t1-q*t2\n",
    "        t1=t2\n",
    "        t2=t\n",
    "        \n",
    "    print(\"The values of gcd(a,b) , s and t are {},{},{} respectively\".format(r1,s1,t1))\n",
    "    print('The modular inverse of b in a is',t1%m)\n",
    "\n",
    "while(True):\n",
    "    print(\"\\nExtended Euclidean Algorithm\")\n",
    "    print('Form : (s*a) + (t*b) = gcd(a,b)') #a is n \n",
    "    a=int(input(\"Enter value of a:\"))\n",
    "    b=int(input('Enter value of b:'))\n",
    "    eea(a,b)\n",
    "    break"
   ]
  },
  {
   "cell_type": "code",
   "execution_count": null,
   "id": "f282492d",
   "metadata": {},
   "outputs": [],
   "source": []
  }
 ],
 "metadata": {
  "interpreter": {
   "hash": "a739fac887d1168e7ec2dac0e01e4cc4e7ffd2e2692fed58fd2b8f75b0369085"
  },
  "kernelspec": {
   "display_name": "Python 3.8.5 ('IBM')",
   "language": "python",
   "name": "python3"
  },
  "language_info": {
   "codemirror_mode": {
    "name": "ipython",
    "version": 3
   },
   "file_extension": ".py",
   "mimetype": "text/x-python",
   "name": "python",
   "nbconvert_exporter": "python",
   "pygments_lexer": "ipython3",
   "version": "3.8.5"
  }
 },
 "nbformat": 4,
 "nbformat_minor": 5
}
