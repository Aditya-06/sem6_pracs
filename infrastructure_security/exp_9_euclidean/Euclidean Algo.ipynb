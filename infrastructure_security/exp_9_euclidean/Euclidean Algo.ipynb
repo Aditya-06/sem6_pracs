{
 "cells": [
  {
   "cell_type": "code",
   "execution_count": null,
   "id": "8c949a0f",
   "metadata": {},
   "outputs": [
    {
     "name": "stdout",
     "output_type": "stream",
     "text": [
      "Euclidean Algorithm\n",
      "Enter value of a:36\n",
      "Enter value of b:10\n",
      "Gcd of the two numbers is 2\n",
      "Euclidean Algorithm\n"
     ]
    }
   ],
   "source": [
    "def ea(r1,r2):\n",
    "    while(r2!=0):\n",
    "        \n",
    "        q=r1//r2\n",
    "        r=r1-q*r2\n",
    "        r1=r2\n",
    "        r2=r\n",
    "        \n",
    "    return r1\n",
    "\n",
    "while(True):\n",
    "    print(\"Euclidean Algorithm\")\n",
    "    a=int(input(\"Enter value of a:\"))\n",
    "    b=int(input(\"Enter value of b:\"))\n",
    "    print(\"Gcd of the two numbers is\",ea(a,b))"
   ]
  },
  {
   "cell_type": "code",
   "execution_count": null,
   "id": "eea61126",
   "metadata": {},
   "outputs": [],
   "source": []
  }
 ],
 "metadata": {
  "kernelspec": {
   "display_name": "Python 3",
   "language": "python",
   "name": "python3"
  },
  "language_info": {
   "codemirror_mode": {
    "name": "ipython",
    "version": 3
   },
   "file_extension": ".py",
   "mimetype": "text/x-python",
   "name": "python",
   "nbconvert_exporter": "python",
   "pygments_lexer": "ipython3",
   "version": "3.8.8"
  }
 },
 "nbformat": 4,
 "nbformat_minor": 5
}
