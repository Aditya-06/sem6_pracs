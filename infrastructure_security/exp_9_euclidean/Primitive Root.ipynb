{
 "cells": [
  {
   "cell_type": "code",
   "execution_count": 27,
   "id": "321d2eb4",
   "metadata": {},
   "outputs": [
    {
     "name": "stdout",
     "output_type": "stream",
     "text": [
      "Primitive Root\n",
      "Enter a prime no.:7\n",
      "{3, 5}\n"
     ]
    }
   ],
   "source": [
    "print(\"Primitive Root\")\n",
    "q=int(input(\"Enter a prime no.:\"))\n",
    "\n",
    "pr=set()\n",
    "for alpha in range(1,q):\n",
    "    \n",
    "    l=[]\n",
    "    for i in range(1,q):\n",
    "        x=(alpha**i)%q\n",
    "        l.append(x)\n",
    "    \n",
    "    s=set(l)\n",
    "    if(len(l)==len(s)):\n",
    "        pr.add(alpha)\n",
    "        \n",
    "print(pr)"
   ]
  },
  {
   "cell_type": "code",
   "execution_count": null,
   "id": "d8ee19dc",
   "metadata": {},
   "outputs": [],
   "source": []
  }
 ],
 "metadata": {
  "kernelspec": {
   "display_name": "Python 3",
   "language": "python",
   "name": "python3"
  },
  "language_info": {
   "codemirror_mode": {
    "name": "ipython",
    "version": 3
   },
   "file_extension": ".py",
   "mimetype": "text/x-python",
   "name": "python",
   "nbconvert_exporter": "python",
   "pygments_lexer": "ipython3",
   "version": "3.8.8"
  }
 },
 "nbformat": 4,
 "nbformat_minor": 5
}
