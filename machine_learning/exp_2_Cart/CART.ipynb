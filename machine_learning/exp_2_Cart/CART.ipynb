{
 "cells": [
  {
   "cell_type": "markdown",
   "metadata": {},
   "source": [
    "# Cart Algorithm From Scratch"
   ]
  },
  {
   "cell_type": "code",
   "execution_count": 60,
   "metadata": {},
   "outputs": [],
   "source": [
    "import pandas as pd\n",
    "import numpy as np"
   ]
  },
  {
   "cell_type": "markdown",
   "metadata": {},
   "source": [
    "### Creating the DF"
   ]
  },
  {
   "cell_type": "code",
   "execution_count": 2,
   "metadata": {},
   "outputs": [],
   "source": [
    "df = pd.DataFrame()\n",
    "outlook = ['Sunny', 'Sunny', 'Overcast', 'Rain', 'Rain', 'Rain', 'Overcast', 'Sunny', 'Sunny', 'Rain', 'Sunny', 'Overcast', 'Overcast', 'Rain']\n",
    "temp = ['Hot', 'Hot', 'Hot', 'Mild', 'Cool', 'Cool', 'Cool', 'Mild', 'Cool', 'Mild', 'Mild', 'Mild', 'Hot', 'Mild']\n",
    "humidity = ['High', 'High', 'High', 'High', 'Normal', 'Normal', 'Normal', 'High', 'Normal', 'Normal', 'Normal', 'High', 'Normal', 'High']\n",
    "wind = ['Weak', 'Strong', 'Weak', 'Weak', 'Weak', 'Strong', 'Strong', 'Weak', 'Weak', 'Weak', 'Strong', 'Strong', 'Weak', 'Strong']\n",
    "decision = [0, 0, 1, 1, 1, 0, 1,0, 1, 1, 1, 1, 1, 0]"
   ]
  },
  {
   "cell_type": "code",
   "execution_count": 120,
   "metadata": {},
   "outputs": [],
   "source": [
    "df['outlook'] = outlook\n",
    "df['temp'] = temp\n",
    "df['humidity'] = humidity\n",
    "df['wind'] = wind\n",
    "df['decision'] = decision\n"
   ]
  },
  {
   "cell_type": "code",
   "execution_count": 121,
   "metadata": {},
   "outputs": [
    {
     "data": {
      "text/html": [
       "<div>\n",
       "<style scoped>\n",
       "    .dataframe tbody tr th:only-of-type {\n",
       "        vertical-align: middle;\n",
       "    }\n",
       "\n",
       "    .dataframe tbody tr th {\n",
       "        vertical-align: top;\n",
       "    }\n",
       "\n",
       "    .dataframe thead th {\n",
       "        text-align: right;\n",
       "    }\n",
       "</style>\n",
       "<table border=\"1\" class=\"dataframe\">\n",
       "  <thead>\n",
       "    <tr style=\"text-align: right;\">\n",
       "      <th></th>\n",
       "      <th>outlook</th>\n",
       "      <th>temp</th>\n",
       "      <th>humidity</th>\n",
       "      <th>wind</th>\n",
       "      <th>decision</th>\n",
       "    </tr>\n",
       "  </thead>\n",
       "  <tbody>\n",
       "    <tr>\n",
       "      <th>0</th>\n",
       "      <td>Sunny</td>\n",
       "      <td>Hot</td>\n",
       "      <td>High</td>\n",
       "      <td>Weak</td>\n",
       "      <td>0</td>\n",
       "    </tr>\n",
       "    <tr>\n",
       "      <th>1</th>\n",
       "      <td>Sunny</td>\n",
       "      <td>Hot</td>\n",
       "      <td>High</td>\n",
       "      <td>Strong</td>\n",
       "      <td>0</td>\n",
       "    </tr>\n",
       "    <tr>\n",
       "      <th>2</th>\n",
       "      <td>Overcast</td>\n",
       "      <td>Hot</td>\n",
       "      <td>High</td>\n",
       "      <td>Weak</td>\n",
       "      <td>1</td>\n",
       "    </tr>\n",
       "    <tr>\n",
       "      <th>3</th>\n",
       "      <td>Rain</td>\n",
       "      <td>Mild</td>\n",
       "      <td>High</td>\n",
       "      <td>Weak</td>\n",
       "      <td>1</td>\n",
       "    </tr>\n",
       "    <tr>\n",
       "      <th>4</th>\n",
       "      <td>Rain</td>\n",
       "      <td>Cool</td>\n",
       "      <td>Normal</td>\n",
       "      <td>Weak</td>\n",
       "      <td>1</td>\n",
       "    </tr>\n",
       "    <tr>\n",
       "      <th>5</th>\n",
       "      <td>Rain</td>\n",
       "      <td>Cool</td>\n",
       "      <td>Normal</td>\n",
       "      <td>Strong</td>\n",
       "      <td>0</td>\n",
       "    </tr>\n",
       "    <tr>\n",
       "      <th>6</th>\n",
       "      <td>Overcast</td>\n",
       "      <td>Cool</td>\n",
       "      <td>Normal</td>\n",
       "      <td>Strong</td>\n",
       "      <td>1</td>\n",
       "    </tr>\n",
       "    <tr>\n",
       "      <th>7</th>\n",
       "      <td>Sunny</td>\n",
       "      <td>Mild</td>\n",
       "      <td>High</td>\n",
       "      <td>Weak</td>\n",
       "      <td>0</td>\n",
       "    </tr>\n",
       "    <tr>\n",
       "      <th>8</th>\n",
       "      <td>Sunny</td>\n",
       "      <td>Cool</td>\n",
       "      <td>Normal</td>\n",
       "      <td>Weak</td>\n",
       "      <td>1</td>\n",
       "    </tr>\n",
       "    <tr>\n",
       "      <th>9</th>\n",
       "      <td>Rain</td>\n",
       "      <td>Mild</td>\n",
       "      <td>Normal</td>\n",
       "      <td>Weak</td>\n",
       "      <td>1</td>\n",
       "    </tr>\n",
       "    <tr>\n",
       "      <th>10</th>\n",
       "      <td>Sunny</td>\n",
       "      <td>Mild</td>\n",
       "      <td>Normal</td>\n",
       "      <td>Strong</td>\n",
       "      <td>1</td>\n",
       "    </tr>\n",
       "    <tr>\n",
       "      <th>11</th>\n",
       "      <td>Overcast</td>\n",
       "      <td>Mild</td>\n",
       "      <td>High</td>\n",
       "      <td>Strong</td>\n",
       "      <td>1</td>\n",
       "    </tr>\n",
       "    <tr>\n",
       "      <th>12</th>\n",
       "      <td>Overcast</td>\n",
       "      <td>Hot</td>\n",
       "      <td>Normal</td>\n",
       "      <td>Weak</td>\n",
       "      <td>1</td>\n",
       "    </tr>\n",
       "    <tr>\n",
       "      <th>13</th>\n",
       "      <td>Rain</td>\n",
       "      <td>Mild</td>\n",
       "      <td>High</td>\n",
       "      <td>Strong</td>\n",
       "      <td>0</td>\n",
       "    </tr>\n",
       "  </tbody>\n",
       "</table>\n",
       "</div>"
      ],
      "text/plain": [
       "     outlook  temp humidity    wind  decision\n",
       "0      Sunny   Hot     High    Weak         0\n",
       "1      Sunny   Hot     High  Strong         0\n",
       "2   Overcast   Hot     High    Weak         1\n",
       "3       Rain  Mild     High    Weak         1\n",
       "4       Rain  Cool   Normal    Weak         1\n",
       "5       Rain  Cool   Normal  Strong         0\n",
       "6   Overcast  Cool   Normal  Strong         1\n",
       "7      Sunny  Mild     High    Weak         0\n",
       "8      Sunny  Cool   Normal    Weak         1\n",
       "9       Rain  Mild   Normal    Weak         1\n",
       "10     Sunny  Mild   Normal  Strong         1\n",
       "11  Overcast  Mild     High  Strong         1\n",
       "12  Overcast   Hot   Normal    Weak         1\n",
       "13      Rain  Mild     High  Strong         0"
      ]
     },
     "execution_count": 121,
     "metadata": {},
     "output_type": "execute_result"
    }
   ],
   "source": [
    "df"
   ]
  },
  {
   "cell_type": "markdown",
   "metadata": {},
   "source": [
    "### Calaculating the Gini for an Attribute"
   ]
  },
  {
   "cell_type": "code",
   "execution_count": 5,
   "metadata": {},
   "outputs": [],
   "source": [
    "def calc_gini_for_attribute(class_name, col,df, target_col='decision'):\n",
    "    total_count = len(df[df[col].isin([class_name])])\n",
    "    count_of_1 = len(df[(df[col].isin([class_name])) & (df[target_col] == 1)])\n",
    "    count_of_0 = len(df[(df[col].isin([class_name])) & (df[target_col] == 0)])\n",
    "    prob_of_1 = count_of_1 / total_count\n",
    "    prob_of_0 = count_of_0 / total_count\n",
    "    gini = 1 - (prob_of_1 **2) - (prob_of_0**2)\n",
    "    return gini, total_count"
   ]
  },
  {
   "cell_type": "code",
   "execution_count": 6,
   "metadata": {},
   "outputs": [
    {
     "data": {
      "text/plain": [
       "(0.48, 5)"
      ]
     },
     "execution_count": 6,
     "metadata": {},
     "output_type": "execute_result"
    }
   ],
   "source": [
    "calc_gini_for_attribute('Sunny', 'outlook',df, target_col='decision')"
   ]
  },
  {
   "cell_type": "code",
   "execution_count": 7,
   "metadata": {},
   "outputs": [
    {
     "data": {
      "text/plain": [
       "['Sunny', 'Overcast', 'Rain']"
      ]
     },
     "execution_count": 7,
     "metadata": {},
     "output_type": "execute_result"
    }
   ],
   "source": [
    "col = 'outlook'\n",
    "list(df[col].unique())"
   ]
  },
  {
   "cell_type": "code",
   "execution_count": 8,
   "metadata": {},
   "outputs": [
    {
     "name": "stdout",
     "output_type": "stream",
     "text": [
      "outlook\n",
      "For atr: Sunny, Value = 0.48\n",
      "For atr: Overcast, Value = 0.0\n",
      "For atr: Rain, Value = 0.48\n",
      "0.343\n",
      "\n",
      "\n",
      "temp\n",
      "For atr: Hot, Value = 0.5\n",
      "For atr: Mild, Value = 0.4444444444444445\n",
      "For atr: Cool, Value = 0.375\n",
      "0.44\n",
      "\n",
      "\n",
      "humidity\n",
      "For atr: High, Value = 0.489795918367347\n",
      "For atr: Normal, Value = 0.24489795918367355\n",
      "0.367\n",
      "\n",
      "\n",
      "wind\n",
      "For atr: Weak, Value = 0.375\n",
      "For atr: Strong, Value = 0.5\n",
      "0.429\n",
      "\n",
      "\n"
     ]
    }
   ],
   "source": [
    "cols = ['outlook', 'temp', 'humidity', 'wind']\n",
    "gini_dict = {}\n",
    "for col in cols:\n",
    "    print(col)\n",
    "    gini_for_attr = 0\n",
    "    for value in list(df[col].unique()):\n",
    "        gini_val, var_count = calc_gini_for_attribute(value, col, df)\n",
    "        print(f\"For atr: {value}, Value = {gini_val}\")\n",
    "        gini_for_attr += var_count/len(df) * gini_val\n",
    "\n",
    "    print(round(gini_for_attr, 3))\n",
    "    print('\\n')\n",
    "    gini_dict[col] = round(gini_for_attr, 3)"
   ]
  },
  {
   "cell_type": "code",
   "execution_count": 9,
   "metadata": {},
   "outputs": [
    {
     "data": {
      "text/plain": [
       "{'outlook': 0.343, 'temp': 0.44, 'humidity': 0.367, 'wind': 0.429}"
      ]
     },
     "execution_count": 9,
     "metadata": {},
     "output_type": "execute_result"
    }
   ],
   "source": [
    "gini_dict"
   ]
  },
  {
   "cell_type": "code",
   "execution_count": 10,
   "metadata": {},
   "outputs": [],
   "source": [
    "def calc_gini(cols: list, data):\n",
    "    gini_dict = {}\n",
    "    for col in cols:\n",
    "        gini_for_attr = 0\n",
    "        for value in list(data[col].unique()):\n",
    "            gini_val, var_count = calc_gini_for_attribute(value, col, data)\n",
    "            gini_for_attr += var_count/len(data) * gini_val\n",
    "        gini_dict[col] = round(gini_for_attr, 3)\n",
    "    return gini_dict"
   ]
  },
  {
   "cell_type": "code",
   "execution_count": 11,
   "metadata": {},
   "outputs": [
    {
     "data": {
      "text/plain": [
       "{'outlook': 0.343, 'temp': 0.44, 'humidity': 0.367, 'wind': 0.429}"
      ]
     },
     "execution_count": 11,
     "metadata": {},
     "output_type": "execute_result"
    }
   ],
   "source": [
    "calc_gini(cols, df)"
   ]
  },
  {
   "cell_type": "code",
   "execution_count": 12,
   "metadata": {},
   "outputs": [
    {
     "data": {
      "text/plain": [
       "'Sunny'"
      ]
     },
     "execution_count": 12,
     "metadata": {},
     "output_type": "execute_result"
    }
   ],
   "source": [
    "df['outlook'].values[0]"
   ]
  },
  {
   "cell_type": "code",
   "execution_count": 59,
   "metadata": {},
   "outputs": [
    {
     "data": {
      "text/plain": [
       "['outlook', 'day', 'temp', 'humidity', 'wind', 'decision']"
      ]
     },
     "execution_count": 59,
     "metadata": {},
     "output_type": "execute_result"
    }
   ],
   "source": [
    "list(df.columns)"
   ]
  },
  {
   "cell_type": "markdown",
   "metadata": {},
   "source": [
    "### Function to get the best attribute"
   ]
  },
  {
   "cell_type": "code",
   "execution_count": 72,
   "metadata": {},
   "outputs": [],
   "source": [
    "def get_sel_attr(df):\n",
    "    cols = list(df.columns)\n",
    "    attr_gini = calc_gini(cols, df)\n",
    "    min = 10\n",
    "    for col in cols:\n",
    "        if attr_gini[col] < min:\n",
    "            min = attr_gini[col]\n",
    "            sel_attr = col\n",
    "    return sel_attr"
   ]
  },
  {
   "cell_type": "markdown",
   "metadata": {},
   "source": [
    "### Function to Construct the Tree"
   ]
  },
  {
   "cell_type": "code",
   "execution_count": 108,
   "metadata": {},
   "outputs": [],
   "source": [
    "# Here we can split the df -> We need to send the selected attribute\n",
    "def split_df(sel_attr, df, father):\n",
    "    global id\n",
    "    print(sel_attr)\n",
    "    list_of_unique_values = list(df[sel_attr].unique())\n",
    "    for value in list_of_unique_values:\n",
    "        if check_termination(df[df[sel_attr] == value]):\n",
    "            print(f\"terminating when {sel_attr} is {value}\")        \n",
    "            id += 1\n",
    "            final_tree.append({'id': id, 'data': df[df[sel_attr] == value], 'cond': sel_attr + \" is \" +  value, 'children': [0, 0], 'isRoot': False, 'isLeaf': True, 'father': father})\n",
    "        else:\n",
    "            print(f\"Cannot terminate when {sel_attr} is {value}\")\n",
    "            id +=1\n",
    "            new_df = df[df[sel_attr] == value].drop([sel_attr], axis = 1)  \n",
    "            # print(new_df.head())\n",
    "            final_tree.append({'id': id, 'data': df[df[sel_attr] == value], 'cond': sel_attr + \" is \" +  value, 'children': [], 'isRoot': False, 'isLeaf': False, 'father': father})\n",
    "            new_best_attr = get_sel_attr(new_df)\n",
    "            print(f\"New Attr: {new_best_attr}\")\n",
    "            split_df(new_best_attr, new_df, id)\n",
    "            \n",
    "    return {'success': False}\n",
    "    "
   ]
  },
  {
   "cell_type": "code",
   "execution_count": 111,
   "metadata": {},
   "outputs": [],
   "source": [
    "# We can terminate if the probability of one class exceeds 75%\n",
    "def check_termination(df):\n",
    "    df_length = len(df)\n",
    "    zero_count = len(df[df['decision'] == 0])\n",
    "    one_count = len(df[df['decision'] == 1])\n",
    "    higher = zero_count/df_length if zero_count/df_length > one_count/df_length else one_count/df_length\n",
    "    print(higher)\n",
    "    if (higher > 0.9):\n",
    "        return True\n",
    "    return False\n",
    "    "
   ]
  },
  {
   "cell_type": "code",
   "execution_count": 118,
   "metadata": {},
   "outputs": [
    {
     "name": "stdout",
     "output_type": "stream",
     "text": [
      "outlook\n",
      "0.6\n",
      "Cannot terminate when outlook is Sunny\n",
      "New Attr: humidity\n",
      "humidity\n",
      "1.0\n",
      "terminating when humidity is High\n",
      "1.0\n",
      "terminating when humidity is Normal\n",
      "1.0\n",
      "terminating when outlook is Overcast\n",
      "0.6\n",
      "Cannot terminate when outlook is Rain\n",
      "New Attr: wind\n",
      "wind\n",
      "1.0\n",
      "terminating when wind is Weak\n",
      "1.0\n",
      "terminating when wind is Strong\n"
     ]
    },
    {
     "data": {
      "text/plain": [
       "{'success': False}"
      ]
     },
     "execution_count": 118,
     "metadata": {},
     "output_type": "execute_result"
    }
   ],
   "source": [
    "# We define the final tree variable which will store the decision tree\n",
    "id = 1\n",
    "final_tree = [{'id': 1, 'data': df, 'cond': 'None', 'children': [], 'isRoot': True, 'isLeaf': False, 'father': 0}]\n",
    "split_df('outlook', df, id)\n"
   ]
  },
  {
   "cell_type": "markdown",
   "metadata": {},
   "source": [
    "## Final Decision Tree"
   ]
  },
  {
   "cell_type": "code",
   "execution_count": 119,
   "metadata": {},
   "outputs": [
    {
     "name": "stdout",
     "output_type": "stream",
     "text": [
      "id: 1 --- cond: None --- father: 0\n",
      "id: 2 --- cond: outlook is Sunny --- father: 1\n",
      "id: 3 --- cond: humidity is High --- father: 2\n",
      "id: 4 --- cond: humidity is Normal --- father: 2\n",
      "id: 5 --- cond: outlook is Overcast --- father: 1\n",
      "id: 6 --- cond: outlook is Rain --- father: 1\n",
      "id: 7 --- cond: wind is Weak --- father: 6\n",
      "id: 8 --- cond: wind is Strong --- father: 6\n"
     ]
    }
   ],
   "source": [
    "for obj in final_tree:\n",
    "    print(f\"id: {obj['id']} --- cond: {obj['cond']} --- father: {obj['father']}\")"
   ]
  },
  {
   "cell_type": "code",
   "execution_count": null,
   "metadata": {},
   "outputs": [],
   "source": []
  }
 ],
 "metadata": {
  "interpreter": {
   "hash": "f699aeefd73c04bec6fb380ba21f3ebf40f1e0b183270376d3ae574ea2684021"
  },
  "kernelspec": {
   "display_name": "Python 3.8.5 ('IBM')",
   "language": "python",
   "name": "python3"
  },
  "language_info": {
   "codemirror_mode": {
    "name": "ipython",
    "version": 3
   },
   "file_extension": ".py",
   "mimetype": "text/x-python",
   "name": "python",
   "nbconvert_exporter": "python",
   "pygments_lexer": "ipython3",
   "version": "3.8.5"
  },
  "orig_nbformat": 4
 },
 "nbformat": 4,
 "nbformat_minor": 2
}
